{
 "cells": [
  {
   "cell_type": "markdown",
   "id": "a01b4f21",
   "metadata": {},
   "source": [
    "## Read_Table\n",
    "The file we use for the call to `read_table` is set up in a way to work with the default parameters. Namely, the file uses tabs as the delimiter and the first row of data in the file is inferred as the header for the entire dataset."
   ]
  },
  {
   "metadata": {},
   "cell_type": "code",
   "outputs": [],
   "execution_count": 1,
   "source": "from pandas import read_table",
   "id": "377016bb"
  },
  {
   "cell_type": "code",
   "id": "cec34533",
   "metadata": {
    "ExecuteTime": {
     "end_time": "2025-05-18T19:48:57.144595Z",
     "start_time": "2025-05-18T19:48:57.053661Z"
    }
   },
   "source": [
    "# read a dataset of Chipotle orders from a URL and store the result in a DataFrame\n",
    "orders = read_table('https://raw.githubusercontent.com/justmarkham/DAT8/master/data/chipotle.tsv')"
   ],
   "outputs": [],
   "execution_count": 2
  },
  {
   "cell_type": "code",
   "id": "817c4422",
   "metadata": {
    "ExecuteTime": {
     "end_time": "2025-05-18T19:48:57.156128Z",
     "start_time": "2025-05-18T19:48:57.147598Z"
    }
   },
   "source": [
    "# examine the first n rows of the given DataFrame, defaults to 5 if no value is given for n\n",
    "orders.head(8)"
   ],
   "outputs": [
    {
     "data": {
      "text/plain": [
       "   order_id  quantity                              item_name  \\\n",
       "0         1         1           Chips and Fresh Tomato Salsa   \n",
       "1         1         1                                   Izze   \n",
       "2         1         1                       Nantucket Nectar   \n",
       "3         1         1  Chips and Tomatillo-Green Chili Salsa   \n",
       "4         2         2                           Chicken Bowl   \n",
       "5         3         1                           Chicken Bowl   \n",
       "6         3         1                          Side of Chips   \n",
       "7         4         1                          Steak Burrito   \n",
       "\n",
       "                                  choice_description item_price  \n",
       "0                                                NaN     $2.39   \n",
       "1                                       [Clementine]     $3.39   \n",
       "2                                            [Apple]     $3.39   \n",
       "3                                                NaN     $2.39   \n",
       "4  [Tomatillo-Red Chili Salsa (Hot), [Black Beans...    $16.98   \n",
       "5  [Fresh Tomato Salsa (Mild), [Rice, Cheese, Sou...    $10.98   \n",
       "6                                                NaN     $1.69   \n",
       "7  [Tomatillo Red Chili Salsa, [Fajita Vegetables...    $11.75   "
      ],
      "text/html": [
       "<div>\n",
       "<style scoped>\n",
       "    .dataframe tbody tr th:only-of-type {\n",
       "        vertical-align: middle;\n",
       "    }\n",
       "\n",
       "    .dataframe tbody tr th {\n",
       "        vertical-align: top;\n",
       "    }\n",
       "\n",
       "    .dataframe thead th {\n",
       "        text-align: right;\n",
       "    }\n",
       "</style>\n",
       "<table border=\"1\" class=\"dataframe\">\n",
       "  <thead>\n",
       "    <tr style=\"text-align: right;\">\n",
       "      <th></th>\n",
       "      <th>order_id</th>\n",
       "      <th>quantity</th>\n",
       "      <th>item_name</th>\n",
       "      <th>choice_description</th>\n",
       "      <th>item_price</th>\n",
       "    </tr>\n",
       "  </thead>\n",
       "  <tbody>\n",
       "    <tr>\n",
       "      <th>0</th>\n",
       "      <td>1</td>\n",
       "      <td>1</td>\n",
       "      <td>Chips and Fresh Tomato Salsa</td>\n",
       "      <td>NaN</td>\n",
       "      <td>$2.39</td>\n",
       "    </tr>\n",
       "    <tr>\n",
       "      <th>1</th>\n",
       "      <td>1</td>\n",
       "      <td>1</td>\n",
       "      <td>Izze</td>\n",
       "      <td>[Clementine]</td>\n",
       "      <td>$3.39</td>\n",
       "    </tr>\n",
       "    <tr>\n",
       "      <th>2</th>\n",
       "      <td>1</td>\n",
       "      <td>1</td>\n",
       "      <td>Nantucket Nectar</td>\n",
       "      <td>[Apple]</td>\n",
       "      <td>$3.39</td>\n",
       "    </tr>\n",
       "    <tr>\n",
       "      <th>3</th>\n",
       "      <td>1</td>\n",
       "      <td>1</td>\n",
       "      <td>Chips and Tomatillo-Green Chili Salsa</td>\n",
       "      <td>NaN</td>\n",
       "      <td>$2.39</td>\n",
       "    </tr>\n",
       "    <tr>\n",
       "      <th>4</th>\n",
       "      <td>2</td>\n",
       "      <td>2</td>\n",
       "      <td>Chicken Bowl</td>\n",
       "      <td>[Tomatillo-Red Chili Salsa (Hot), [Black Beans...</td>\n",
       "      <td>$16.98</td>\n",
       "    </tr>\n",
       "    <tr>\n",
       "      <th>5</th>\n",
       "      <td>3</td>\n",
       "      <td>1</td>\n",
       "      <td>Chicken Bowl</td>\n",
       "      <td>[Fresh Tomato Salsa (Mild), [Rice, Cheese, Sou...</td>\n",
       "      <td>$10.98</td>\n",
       "    </tr>\n",
       "    <tr>\n",
       "      <th>6</th>\n",
       "      <td>3</td>\n",
       "      <td>1</td>\n",
       "      <td>Side of Chips</td>\n",
       "      <td>NaN</td>\n",
       "      <td>$1.69</td>\n",
       "    </tr>\n",
       "    <tr>\n",
       "      <th>7</th>\n",
       "      <td>4</td>\n",
       "      <td>1</td>\n",
       "      <td>Steak Burrito</td>\n",
       "      <td>[Tomatillo Red Chili Salsa, [Fajita Vegetables...</td>\n",
       "      <td>$11.75</td>\n",
       "    </tr>\n",
       "  </tbody>\n",
       "</table>\n",
       "</div>"
      ]
     },
     "execution_count": 3,
     "metadata": {},
     "output_type": "execute_result"
    }
   ],
   "execution_count": 3
  },
  {
   "cell_type": "markdown",
   "id": "239cee1a",
   "metadata": {},
   "source": [
    "For the next dataframe, we will be working with a dataset that is not perfectly suited to the default call of `read_table`. In this case, the data is a `raw text file` with no headers and an uncommon delimiter. We will need to add parameters to handle these cases and define the columns for the dataframe."
   ]
  },
  {
   "cell_type": "code",
   "id": "3a197c0a",
   "metadata": {
    "ExecuteTime": {
     "end_time": "2025-05-18T19:48:57.219458Z",
     "start_time": "2025-05-18T19:48:57.172759Z"
    }
   },
   "source": [
    "user_columns = ['user_id', 'age', 'gender', 'occupation', 'zip_code']\n",
    "\n",
    "users = read_table('https://raw.githubusercontent.com/justmarkham/pandas-videos/master/data/u.user',\n",
    "                      sep='|', header=None, names=user_columns)\n",
    "\n",
    "users.head()"
   ],
   "outputs": [
    {
     "data": {
      "text/plain": [
       "   user_id  age gender  occupation zip_code\n",
       "0        1   24      M  technician    85711\n",
       "1        2   53      F       other    94043\n",
       "2        3   23      M      writer    32067\n",
       "3        4   24      M  technician    43537\n",
       "4        5   33      F       other    15213"
      ],
      "text/html": [
       "<div>\n",
       "<style scoped>\n",
       "    .dataframe tbody tr th:only-of-type {\n",
       "        vertical-align: middle;\n",
       "    }\n",
       "\n",
       "    .dataframe tbody tr th {\n",
       "        vertical-align: top;\n",
       "    }\n",
       "\n",
       "    .dataframe thead th {\n",
       "        text-align: right;\n",
       "    }\n",
       "</style>\n",
       "<table border=\"1\" class=\"dataframe\">\n",
       "  <thead>\n",
       "    <tr style=\"text-align: right;\">\n",
       "      <th></th>\n",
       "      <th>user_id</th>\n",
       "      <th>age</th>\n",
       "      <th>gender</th>\n",
       "      <th>occupation</th>\n",
       "      <th>zip_code</th>\n",
       "    </tr>\n",
       "  </thead>\n",
       "  <tbody>\n",
       "    <tr>\n",
       "      <th>0</th>\n",
       "      <td>1</td>\n",
       "      <td>24</td>\n",
       "      <td>M</td>\n",
       "      <td>technician</td>\n",
       "      <td>85711</td>\n",
       "    </tr>\n",
       "    <tr>\n",
       "      <th>1</th>\n",
       "      <td>2</td>\n",
       "      <td>53</td>\n",
       "      <td>F</td>\n",
       "      <td>other</td>\n",
       "      <td>94043</td>\n",
       "    </tr>\n",
       "    <tr>\n",
       "      <th>2</th>\n",
       "      <td>3</td>\n",
       "      <td>23</td>\n",
       "      <td>M</td>\n",
       "      <td>writer</td>\n",
       "      <td>32067</td>\n",
       "    </tr>\n",
       "    <tr>\n",
       "      <th>3</th>\n",
       "      <td>4</td>\n",
       "      <td>24</td>\n",
       "      <td>M</td>\n",
       "      <td>technician</td>\n",
       "      <td>43537</td>\n",
       "    </tr>\n",
       "    <tr>\n",
       "      <th>4</th>\n",
       "      <td>5</td>\n",
       "      <td>33</td>\n",
       "      <td>F</td>\n",
       "      <td>other</td>\n",
       "      <td>15213</td>\n",
       "    </tr>\n",
       "  </tbody>\n",
       "</table>\n",
       "</div>"
      ]
     },
     "execution_count": 4,
     "metadata": {},
     "output_type": "execute_result"
    }
   ],
   "execution_count": 4
  },
  {
   "cell_type": "markdown",
   "id": "c0e4c66b",
   "metadata": {},
   "source": [
    "## Series\n",
    "In pandas, there are two main object types: DataFrames and Series. Previously, we used `read_table` to create the basic DataFrame object. Now, we'll use python's native attribute retrieval notations to manipulate the data in the DataFrame by column. This resulting column object is known as a Series."
   ]
  },
  {
   "metadata": {
    "ExecuteTime": {
     "end_time": "2025-05-18T19:48:57.235997Z",
     "start_time": "2025-05-18T19:48:57.232998Z"
    }
   },
   "cell_type": "code",
   "source": "from pandas import read_csv\n",
   "id": "f621049a3ebc87a4",
   "outputs": [],
   "execution_count": 5
  },
  {
   "cell_type": "code",
   "id": "23ff0a87",
   "metadata": {
    "ExecuteTime": {
     "end_time": "2025-05-18T19:48:57.348848Z",
     "start_time": "2025-05-18T19:48:57.238680Z"
    }
   },
   "source": [
    "# Create a DataFrame from a csv file\n",
    "# ufo = pd.read_table('https://raw.githubusercontent.com/justmarkham/pandas-videos/master/data/ufo.csv', sep=',')\n",
    "# OR\n",
    "ufo = read_csv('https://raw.githubusercontent.com/justmarkham/pandas-videos/master/data/ufo.csv')\n",
    "\n",
    "print(ufo.columns)"
   ],
   "outputs": [
    {
     "name": "stdout",
     "output_type": "stream",
     "text": [
      "Index(['City', 'Colors Reported', 'Shape Reported', 'State', 'Time'], dtype='object')\n"
     ]
    }
   ],
   "execution_count": 6
  },
  {
   "cell_type": "markdown",
   "id": "5ec605c4",
   "metadata": {},
   "source": [
    "Calling the `head` function on the `ufo` dataframe allows us to peak at the data contained in the table. For now, we're only interested in learning the values of the columns so instead we can call `print` on the ufo columns attribute instead. In the following code snippet, we will create a `Series` object by selecting only the `City` column."
   ]
  },
  {
   "cell_type": "code",
   "id": "b4e11992",
   "metadata": {
    "ExecuteTime": {
     "end_time": "2025-05-18T19:48:57.358326Z",
     "start_time": "2025-05-18T19:48:57.354916Z"
    }
   },
   "source": [
    "# Dot Notation similar to Object attribute retrieval\n",
    "# ufo.City\n",
    "\n",
    "# OR Bracket Notation similar to dict attribute retrieval\n",
    "ufo['City']"
   ],
   "outputs": [
    {
     "data": {
      "text/plain": [
       "0                      Ithaca\n",
       "1                 Willingboro\n",
       "2                     Holyoke\n",
       "3                     Abilene\n",
       "4        New York Worlds Fair\n",
       "                 ...         \n",
       "18236              Grant Park\n",
       "18237             Spirit Lake\n",
       "18238             Eagle River\n",
       "18239             Eagle River\n",
       "18240                    Ybor\n",
       "Name: City, Length: 18241, dtype: object"
      ]
     },
     "execution_count": 7,
     "metadata": {},
     "output_type": "execute_result"
    }
   ],
   "execution_count": 7
  },
  {
   "cell_type": "markdown",
   "id": "1de910aa",
   "metadata": {},
   "source": [
    "## Bracket Notation vs Dot Notation\n",
    "Bracket Notation is more consistent than Dot Notation attribute retrieval for a few reasons.\n",
    "\n",
    "### Column Names with Special Characters\n",
    "With Dot Notation, Series objects are retrieved from the DataFrame object as an attribute. This limits the naming scheme of columns to align with the coding requirements for variables. A column name with a special character or a space would interfere with the interpretation of the call. With Bracket Notation, the column name is effectively escaped which removes the possibility of misinterpretation by the script or notebook.\n",
    "Series objects with special characters are less likely to be mishandled due to escaping in Bracket Notation.\n",
    "\n",
    "### Column Names with Reserved Words \n",
    "Similar to the previous point on special characters, Dot Notation leaves the Series object open to interpretations by the script. The column name may be the same as a method (head, describe, etc.) or attribute (shape, dtypes, columns, etc.). The coding language cannot always interpret through the ambiguity and will fail at runtime.\n",
    "Series objects with non-unique column names are less ambiguous when called with Bracket Notation.\n",
    "\n",
    "### Column Names that don't exist\n",
    "A Series object is created by referencing a column from a DataFrame object. With Dot Notation, the instantiation of each column's Series object is inferred and the objects can merely be called as attributes from the DataFrame. However, if the referenced column does not already exist within the DataFrame, then the Dot Notation cannot be used and will instead throw an exception. With Bracket Notation, the Series object is instantiated as a new object associated with the DataFrame object.\n",
    "Series objects can avoid exceptions more easily on calls with Bracket Notation.\n"
   ]
  },
  {
   "cell_type": "code",
   "id": "106af38c",
   "metadata": {
    "ExecuteTime": {
     "end_time": "2025-05-18T19:48:57.382362Z",
     "start_time": "2025-05-18T19:48:57.373841Z"
    }
   },
   "source": [
    "# Append a new column to the ufo dataset\n",
    "# Bracket Notation is used to create a new Series object and associate with the existing ufo DataFrame\n",
    "# Dot Notation is used to reference the existing columns from the ufo DataFrame: City and State\n",
    "ufo['Location'] = ufo.City + ', ' + ufo.State\n",
    "ufo.head()"
   ],
   "outputs": [
    {
     "data": {
      "text/plain": [
       "                   City Colors Reported Shape Reported State             Time  \\\n",
       "0                Ithaca             NaN       TRIANGLE    NY   6/1/1930 22:00   \n",
       "1           Willingboro             NaN          OTHER    NJ  6/30/1930 20:00   \n",
       "2               Holyoke             NaN           OVAL    CO  2/15/1931 14:00   \n",
       "3               Abilene             NaN           DISK    KS   6/1/1931 13:00   \n",
       "4  New York Worlds Fair             NaN          LIGHT    NY  4/18/1933 19:00   \n",
       "\n",
       "                   Location  \n",
       "0                Ithaca, NY  \n",
       "1           Willingboro, NJ  \n",
       "2               Holyoke, CO  \n",
       "3               Abilene, KS  \n",
       "4  New York Worlds Fair, NY  "
      ],
      "text/html": [
       "<div>\n",
       "<style scoped>\n",
       "    .dataframe tbody tr th:only-of-type {\n",
       "        vertical-align: middle;\n",
       "    }\n",
       "\n",
       "    .dataframe tbody tr th {\n",
       "        vertical-align: top;\n",
       "    }\n",
       "\n",
       "    .dataframe thead th {\n",
       "        text-align: right;\n",
       "    }\n",
       "</style>\n",
       "<table border=\"1\" class=\"dataframe\">\n",
       "  <thead>\n",
       "    <tr style=\"text-align: right;\">\n",
       "      <th></th>\n",
       "      <th>City</th>\n",
       "      <th>Colors Reported</th>\n",
       "      <th>Shape Reported</th>\n",
       "      <th>State</th>\n",
       "      <th>Time</th>\n",
       "      <th>Location</th>\n",
       "    </tr>\n",
       "  </thead>\n",
       "  <tbody>\n",
       "    <tr>\n",
       "      <th>0</th>\n",
       "      <td>Ithaca</td>\n",
       "      <td>NaN</td>\n",
       "      <td>TRIANGLE</td>\n",
       "      <td>NY</td>\n",
       "      <td>6/1/1930 22:00</td>\n",
       "      <td>Ithaca, NY</td>\n",
       "    </tr>\n",
       "    <tr>\n",
       "      <th>1</th>\n",
       "      <td>Willingboro</td>\n",
       "      <td>NaN</td>\n",
       "      <td>OTHER</td>\n",
       "      <td>NJ</td>\n",
       "      <td>6/30/1930 20:00</td>\n",
       "      <td>Willingboro, NJ</td>\n",
       "    </tr>\n",
       "    <tr>\n",
       "      <th>2</th>\n",
       "      <td>Holyoke</td>\n",
       "      <td>NaN</td>\n",
       "      <td>OVAL</td>\n",
       "      <td>CO</td>\n",
       "      <td>2/15/1931 14:00</td>\n",
       "      <td>Holyoke, CO</td>\n",
       "    </tr>\n",
       "    <tr>\n",
       "      <th>3</th>\n",
       "      <td>Abilene</td>\n",
       "      <td>NaN</td>\n",
       "      <td>DISK</td>\n",
       "      <td>KS</td>\n",
       "      <td>6/1/1931 13:00</td>\n",
       "      <td>Abilene, KS</td>\n",
       "    </tr>\n",
       "    <tr>\n",
       "      <th>4</th>\n",
       "      <td>New York Worlds Fair</td>\n",
       "      <td>NaN</td>\n",
       "      <td>LIGHT</td>\n",
       "      <td>NY</td>\n",
       "      <td>4/18/1933 19:00</td>\n",
       "      <td>New York Worlds Fair, NY</td>\n",
       "    </tr>\n",
       "  </tbody>\n",
       "</table>\n",
       "</div>"
      ]
     },
     "execution_count": 8,
     "metadata": {},
     "output_type": "execute_result"
    }
   ],
   "execution_count": 8
  },
  {
   "cell_type": "markdown",
   "id": "81eb83dc",
   "metadata": {},
   "source": [
    "## Methods and Attributes of Pandas\n",
    "Methods and Attributes refer to the Functions and Objects associated with the DataFrame class. The DataFrame object must be referenced as part of the call to these functions and objects. In the following code snippets, we will explain the most commonly used methods and attributes of DataFrame."
   ]
  },
  {
   "cell_type": "code",
   "id": "72e0e7c1",
   "metadata": {
    "ExecuteTime": {
     "end_time": "2025-05-18T19:48:57.458790Z",
     "start_time": "2025-05-18T19:48:57.389625Z"
    }
   },
   "source": [
    "# Create the DataFrame object to be used for examining Methods and Attributes\n",
    "\n",
    "movies = read_csv('https://raw.githubusercontent.com/justmarkham/pandas-videos/master/data/imdb_1000.csv')\n",
    "\n",
    "# head(n=5), function which returns a subset of rows of data from the referenced DataFrame, defaults to 5 rows\n",
    "# the return value is a view of a DataFrame object which can be set to a new variable as a copy.\n",
    "# Pandas utilizes Copy-On-Write for dealing with Views and memory optimization.\n",
    "movies.head()"
   ],
   "outputs": [
    {
     "data": {
      "text/plain": [
       "   star_rating                     title content_rating   genre  duration  \\\n",
       "0          9.3  The Shawshank Redemption              R   Crime       142   \n",
       "1          9.2             The Godfather              R   Crime       175   \n",
       "2          9.1    The Godfather: Part II              R   Crime       200   \n",
       "3          9.0           The Dark Knight          PG-13  Action       152   \n",
       "4          8.9              Pulp Fiction              R   Crime       154   \n",
       "\n",
       "                                         actors_list  \n",
       "0  [u'Tim Robbins', u'Morgan Freeman', u'Bob Gunt...  \n",
       "1    [u'Marlon Brando', u'Al Pacino', u'James Caan']  \n",
       "2  [u'Al Pacino', u'Robert De Niro', u'Robert Duv...  \n",
       "3  [u'Christian Bale', u'Heath Ledger', u'Aaron E...  \n",
       "4  [u'John Travolta', u'Uma Thurman', u'Samuel L....  "
      ],
      "text/html": [
       "<div>\n",
       "<style scoped>\n",
       "    .dataframe tbody tr th:only-of-type {\n",
       "        vertical-align: middle;\n",
       "    }\n",
       "\n",
       "    .dataframe tbody tr th {\n",
       "        vertical-align: top;\n",
       "    }\n",
       "\n",
       "    .dataframe thead th {\n",
       "        text-align: right;\n",
       "    }\n",
       "</style>\n",
       "<table border=\"1\" class=\"dataframe\">\n",
       "  <thead>\n",
       "    <tr style=\"text-align: right;\">\n",
       "      <th></th>\n",
       "      <th>star_rating</th>\n",
       "      <th>title</th>\n",
       "      <th>content_rating</th>\n",
       "      <th>genre</th>\n",
       "      <th>duration</th>\n",
       "      <th>actors_list</th>\n",
       "    </tr>\n",
       "  </thead>\n",
       "  <tbody>\n",
       "    <tr>\n",
       "      <th>0</th>\n",
       "      <td>9.3</td>\n",
       "      <td>The Shawshank Redemption</td>\n",
       "      <td>R</td>\n",
       "      <td>Crime</td>\n",
       "      <td>142</td>\n",
       "      <td>[u'Tim Robbins', u'Morgan Freeman', u'Bob Gunt...</td>\n",
       "    </tr>\n",
       "    <tr>\n",
       "      <th>1</th>\n",
       "      <td>9.2</td>\n",
       "      <td>The Godfather</td>\n",
       "      <td>R</td>\n",
       "      <td>Crime</td>\n",
       "      <td>175</td>\n",
       "      <td>[u'Marlon Brando', u'Al Pacino', u'James Caan']</td>\n",
       "    </tr>\n",
       "    <tr>\n",
       "      <th>2</th>\n",
       "      <td>9.1</td>\n",
       "      <td>The Godfather: Part II</td>\n",
       "      <td>R</td>\n",
       "      <td>Crime</td>\n",
       "      <td>200</td>\n",
       "      <td>[u'Al Pacino', u'Robert De Niro', u'Robert Duv...</td>\n",
       "    </tr>\n",
       "    <tr>\n",
       "      <th>3</th>\n",
       "      <td>9.0</td>\n",
       "      <td>The Dark Knight</td>\n",
       "      <td>PG-13</td>\n",
       "      <td>Action</td>\n",
       "      <td>152</td>\n",
       "      <td>[u'Christian Bale', u'Heath Ledger', u'Aaron E...</td>\n",
       "    </tr>\n",
       "    <tr>\n",
       "      <th>4</th>\n",
       "      <td>8.9</td>\n",
       "      <td>Pulp Fiction</td>\n",
       "      <td>R</td>\n",
       "      <td>Crime</td>\n",
       "      <td>154</td>\n",
       "      <td>[u'John Travolta', u'Uma Thurman', u'Samuel L....</td>\n",
       "    </tr>\n",
       "  </tbody>\n",
       "</table>\n",
       "</div>"
      ]
     },
     "execution_count": 9,
     "metadata": {},
     "output_type": "execute_result"
    }
   ],
   "execution_count": 9
  },
  {
   "cell_type": "markdown",
   "id": "7a9bb809",
   "metadata": {},
   "source": [
    "### Copy On Write\n",
    "Datasets can easily grow and scale to extreme sizes compared to other processes. For this reason, memory optimization must always be a priority. One of the ways pandas manages memory allocation for DataFrames is Copy On Write. Introduced in version 1.5, Copy On Write is the process that allows all DataFrame and Series objects created through pandas to work as independent copies of each other. When calling a method which returns a DataFrame object, it is possible to save that return object to a new variable. Until transformations are made on the new object, it will reference the same data in memory as the original copy. When transformation calls are made to either object, CoW will ensure the old data in memory is not mutated. The result of the transformations are stored elsewhere in memory and the transformed object is updates its reference to the new memory location."
   ]
  },
  {
   "cell_type": "code",
   "id": "ee9f4b6d",
   "metadata": {
    "ExecuteTime": {
     "end_time": "2025-05-18T19:48:57.478319Z",
     "start_time": "2025-05-18T19:48:57.471807Z"
    }
   },
   "source": [
    "# Describe calculates summary statistics\n",
    "# Takes 3 parameters:\n",
    "# percentiles = takes an iterable object of numbers whose value should be between 0 and 1\n",
    "# By default, percentiles will compute 25%, 50% and 75% from an input like [.25, .5, .75]\n",
    "# include = takes an iterable object of strings describing the dtype of the values to include in the stats\n",
    "# By default, include is set to 'None' and only takes numerical columns into account\n",
    "# exclude = takes an iterable object of strings describing the dtype of the values to exclude, None by default\n",
    "# Numerical stats returned on describe include count, mean, standard deviation, min, max and percentiles.\n",
    "movies.describe()"
   ],
   "outputs": [
    {
     "data": {
      "text/plain": [
       "       star_rating    duration\n",
       "count   979.000000  979.000000\n",
       "mean      7.889785  120.979571\n",
       "std       0.336069   26.218010\n",
       "min       7.400000   64.000000\n",
       "25%       7.600000  102.000000\n",
       "50%       7.800000  117.000000\n",
       "75%       8.100000  134.000000\n",
       "max       9.300000  242.000000"
      ],
      "text/html": [
       "<div>\n",
       "<style scoped>\n",
       "    .dataframe tbody tr th:only-of-type {\n",
       "        vertical-align: middle;\n",
       "    }\n",
       "\n",
       "    .dataframe tbody tr th {\n",
       "        vertical-align: top;\n",
       "    }\n",
       "\n",
       "    .dataframe thead th {\n",
       "        text-align: right;\n",
       "    }\n",
       "</style>\n",
       "<table border=\"1\" class=\"dataframe\">\n",
       "  <thead>\n",
       "    <tr style=\"text-align: right;\">\n",
       "      <th></th>\n",
       "      <th>star_rating</th>\n",
       "      <th>duration</th>\n",
       "    </tr>\n",
       "  </thead>\n",
       "  <tbody>\n",
       "    <tr>\n",
       "      <th>count</th>\n",
       "      <td>979.000000</td>\n",
       "      <td>979.000000</td>\n",
       "    </tr>\n",
       "    <tr>\n",
       "      <th>mean</th>\n",
       "      <td>7.889785</td>\n",
       "      <td>120.979571</td>\n",
       "    </tr>\n",
       "    <tr>\n",
       "      <th>std</th>\n",
       "      <td>0.336069</td>\n",
       "      <td>26.218010</td>\n",
       "    </tr>\n",
       "    <tr>\n",
       "      <th>min</th>\n",
       "      <td>7.400000</td>\n",
       "      <td>64.000000</td>\n",
       "    </tr>\n",
       "    <tr>\n",
       "      <th>25%</th>\n",
       "      <td>7.600000</td>\n",
       "      <td>102.000000</td>\n",
       "    </tr>\n",
       "    <tr>\n",
       "      <th>50%</th>\n",
       "      <td>7.800000</td>\n",
       "      <td>117.000000</td>\n",
       "    </tr>\n",
       "    <tr>\n",
       "      <th>75%</th>\n",
       "      <td>8.100000</td>\n",
       "      <td>134.000000</td>\n",
       "    </tr>\n",
       "    <tr>\n",
       "      <th>max</th>\n",
       "      <td>9.300000</td>\n",
       "      <td>242.000000</td>\n",
       "    </tr>\n",
       "  </tbody>\n",
       "</table>\n",
       "</div>"
      ]
     },
     "execution_count": 10,
     "metadata": {},
     "output_type": "execute_result"
    }
   ],
   "execution_count": 10
  },
  {
   "cell_type": "code",
   "id": "fb7c5f1e",
   "metadata": {
    "ExecuteTime": {
     "end_time": "2025-05-18T19:48:57.501755Z",
     "start_time": "2025-05-18T19:48:57.494116Z"
    }
   },
   "source": [
    "# the basic stats of the describe method changes based on the included dtypes\n",
    "# Object stats returned on describe include count, unique, top, freq\n",
    "movies.describe(include=['object'])"
   ],
   "outputs": [
    {
     "data": {
      "text/plain": [
       "                                  title content_rating  genre  \\\n",
       "count                               979            976    979   \n",
       "unique                              975             12     16   \n",
       "top     The Girl with the Dragon Tattoo              R  Drama   \n",
       "freq                                  2            460    278   \n",
       "\n",
       "                                              actors_list  \n",
       "count                                                 979  \n",
       "unique                                                969  \n",
       "top     [u'Daniel Radcliffe', u'Emma Watson', u'Rupert...  \n",
       "freq                                                    6  "
      ],
      "text/html": [
       "<div>\n",
       "<style scoped>\n",
       "    .dataframe tbody tr th:only-of-type {\n",
       "        vertical-align: middle;\n",
       "    }\n",
       "\n",
       "    .dataframe tbody tr th {\n",
       "        vertical-align: top;\n",
       "    }\n",
       "\n",
       "    .dataframe thead th {\n",
       "        text-align: right;\n",
       "    }\n",
       "</style>\n",
       "<table border=\"1\" class=\"dataframe\">\n",
       "  <thead>\n",
       "    <tr style=\"text-align: right;\">\n",
       "      <th></th>\n",
       "      <th>title</th>\n",
       "      <th>content_rating</th>\n",
       "      <th>genre</th>\n",
       "      <th>actors_list</th>\n",
       "    </tr>\n",
       "  </thead>\n",
       "  <tbody>\n",
       "    <tr>\n",
       "      <th>count</th>\n",
       "      <td>979</td>\n",
       "      <td>976</td>\n",
       "      <td>979</td>\n",
       "      <td>979</td>\n",
       "    </tr>\n",
       "    <tr>\n",
       "      <th>unique</th>\n",
       "      <td>975</td>\n",
       "      <td>12</td>\n",
       "      <td>16</td>\n",
       "      <td>969</td>\n",
       "    </tr>\n",
       "    <tr>\n",
       "      <th>top</th>\n",
       "      <td>The Girl with the Dragon Tattoo</td>\n",
       "      <td>R</td>\n",
       "      <td>Drama</td>\n",
       "      <td>[u'Daniel Radcliffe', u'Emma Watson', u'Rupert...</td>\n",
       "    </tr>\n",
       "    <tr>\n",
       "      <th>freq</th>\n",
       "      <td>2</td>\n",
       "      <td>460</td>\n",
       "      <td>278</td>\n",
       "      <td>6</td>\n",
       "    </tr>\n",
       "  </tbody>\n",
       "</table>\n",
       "</div>"
      ]
     },
     "execution_count": 11,
     "metadata": {},
     "output_type": "execute_result"
    }
   ],
   "execution_count": 11
  },
  {
   "cell_type": "code",
   "id": "03a01595",
   "metadata": {
    "ExecuteTime": {
     "end_time": "2025-05-18T19:48:57.518284Z",
     "start_time": "2025-05-18T19:48:57.515415Z"
    }
   },
   "source": [
    "# Shape is an attribute of the DataFrame which returns a Tuple of rows and columns for the dataset\n",
    "movies.shape"
   ],
   "outputs": [
    {
     "data": {
      "text/plain": [
       "(979, 6)"
      ]
     },
     "execution_count": 12,
     "metadata": {},
     "output_type": "execute_result"
    }
   ],
   "execution_count": 12
  },
  {
   "cell_type": "code",
   "id": "8fad3b45",
   "metadata": {
    "ExecuteTime": {
     "end_time": "2025-05-18T19:48:57.524613Z",
     "start_time": "2025-05-18T19:48:57.521287Z"
    }
   },
   "source": [
    "# DTypes is an attribute of the DataFrame which describes the schema of the dataset\n",
    "movies.dtypes"
   ],
   "outputs": [
    {
     "data": {
      "text/plain": [
       "star_rating       float64\n",
       "title              object\n",
       "content_rating     object\n",
       "genre              object\n",
       "duration            int64\n",
       "actors_list        object\n",
       "dtype: object"
      ]
     },
     "execution_count": 13,
     "metadata": {},
     "output_type": "execute_result"
    }
   ],
   "execution_count": 13
  },
  {
   "cell_type": "markdown",
   "id": "2ce165c6",
   "metadata": {},
   "source": [
    "## DataFrame Transformations\n",
    "\n",
    "### Columnar Transformations"
   ]
  },
  {
   "cell_type": "code",
   "id": "41954460",
   "metadata": {
    "ExecuteTime": {
     "end_time": "2025-05-18T19:48:57.671416Z",
     "start_time": "2025-05-18T19:48:57.537447Z"
    }
   },
   "source": [
    "# Rename existing column\n",
    "ufo = read_csv('https://raw.githubusercontent.com/justmarkham/pandas-videos/master/data/ufo.csv')\n",
    "\n",
    "# check column values\n",
    "ufo.columns"
   ],
   "outputs": [
    {
     "data": {
      "text/plain": [
       "Index(['City', 'Colors Reported', 'Shape Reported', 'State', 'Time'], dtype='object')"
      ]
     },
     "execution_count": 14,
     "metadata": {},
     "output_type": "execute_result"
    }
   ],
   "execution_count": 14
  },
  {
   "cell_type": "code",
   "id": "9005e2d2",
   "metadata": {
    "ExecuteTime": {
     "end_time": "2025-05-18T19:48:57.677420Z",
     "start_time": "2025-05-18T19:48:57.674419Z"
    }
   },
   "source": [
    "# We use a dict to correlate the columns to the expected change. Due to CoW, the default action\n",
    "# is to create new Series objects with different names and change associations with the DataFrame. \n",
    "# By setting inplace to True, we are telling the application to overwrite the existing Series objects\n",
    "# instead of returning a new DataFrame object with the transformations applied.\n",
    "ufo.rename(columns={'Colors Reported': 'colors_reported', 'Shape Reported': 'shape_reported'}, inplace=True)\n",
    "\n",
    "ufo.columns"
   ],
   "outputs": [
    {
     "data": {
      "text/plain": [
       "Index(['City', 'colors_reported', 'shape_reported', 'State', 'Time'], dtype='object')"
      ]
     },
     "execution_count": 15,
     "metadata": {},
     "output_type": "execute_result"
    }
   ],
   "execution_count": 15
  }
 ],
 "metadata": {
  "kernelspec": {
   "display_name": ".venv",
   "language": "python",
   "name": "python3"
  },
  "language_info": {
   "codemirror_mode": {
    "name": "ipython",
    "version": 3
   },
   "file_extension": ".py",
   "mimetype": "text/x-python",
   "name": "python",
   "nbconvert_exporter": "python",
   "pygments_lexer": "ipython3",
   "version": "3.13.3"
  }
 },
 "nbformat": 4,
 "nbformat_minor": 5
}
